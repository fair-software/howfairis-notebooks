{
 "cells": [
  {
   "cell_type": "markdown",
   "id": "sensitive-action",
   "metadata": {},
   "source": [
    "# `howfairis` demo"
   ]
  },
  {
   "cell_type": "markdown",
   "id": "provincial-patch",
   "metadata": {},
   "source": [
    "Print the version of the library as used in this demonstration:"
   ]
  },
  {
   "cell_type": "code",
   "execution_count": 1,
   "id": "requested-wealth",
   "metadata": {},
   "outputs": [
    {
     "data": {
      "text/plain": [
       "'0.14.1'"
      ]
     },
     "execution_count": 1,
     "metadata": {},
     "output_type": "execute_result"
    }
   ],
   "source": [
    "from howfairis import __version__\n",
    "\n",
    "\n",
    "__version__"
   ]
  },
  {
   "cell_type": "markdown",
   "id": "colored-concrete",
   "metadata": {},
   "source": [
    "Import core classes and run the `howfairis` analysis for the testing repository at [https://github.com/fair-software/howfairis-livetest](https://github.com/fair-software/howfairis-livetest):"
   ]
  },
  {
   "cell_type": "code",
   "execution_count": 2,
   "id": "stuffed-amsterdam",
   "metadata": {},
   "outputs": [
    {
     "name": "stdout",
     "output_type": "stream",
     "text": [
      "(1/5) repository\n",
      "      \u001b[1m\u001b[32m✓ \u001b[0mhas_open_repository\n",
      "(2/5) license\n",
      "      \u001b[1m\u001b[32m✓ \u001b[0mhas_license\n",
      "(3/5) registry\n",
      "      \u001b[1m\u001b[31m× \u001b[0mhas_ascl_badge\n",
      "      \u001b[1m\u001b[31m× \u001b[0mhas_bintray_badge\n",
      "      \u001b[1m\u001b[31m× \u001b[0mhas_conda_badge\n",
      "      \u001b[1m\u001b[31m× \u001b[0mhas_cran_badge\n",
      "      \u001b[1m\u001b[31m× \u001b[0mhas_crates_badge\n",
      "      \u001b[1m\u001b[31m× \u001b[0mhas_maven_badge\n",
      "      \u001b[1m\u001b[31m× \u001b[0mhas_npm_badge\n",
      "      \u001b[1m\u001b[32m✓ \u001b[0mhas_pypi_badge\n",
      "      \u001b[1m\u001b[31m× \u001b[0mhas_rsd_badge\n",
      "      \u001b[1m\u001b[31m× \u001b[0mis_on_github_marketplace\n",
      "(4/5) citation\n",
      "      \u001b[1m\u001b[31m× \u001b[0mhas_citation_file\n",
      "      \u001b[1m\u001b[31m× \u001b[0mhas_citationcff_file\n",
      "      \u001b[1m\u001b[31m× \u001b[0mhas_codemeta_file\n",
      "      \u001b[1m\u001b[32m✓ \u001b[0mhas_zenodo_badge\n",
      "      \u001b[1m\u001b[31m× \u001b[0mhas_zenodo_metadata_file\n",
      "(5/5) checklist\n",
      "      \u001b[1m\u001b[32m✓ \u001b[0mhas_core_infrastructures_badge\n"
     ]
    }
   ],
   "source": [
    "from howfairis import Repo\n",
    "from howfairis import Checker\n",
    "\n",
    "\n",
    "repo = Repo(\"https://github.com/fair-software/howfairis-livetest\")\n",
    "checker = Checker(repo)\n",
    "compliance = checker.check_five_recommendations()\n"
   ]
  }
 ],
 "metadata": {
  "kernelspec": {
   "display_name": "Python [conda env:howfairis-notebooks] *",
   "language": "python",
   "name": "conda-env-howfairis-notebooks-py"
  },
  "language_info": {
   "codemirror_mode": {
    "name": "ipython",
    "version": 3
   },
   "file_extension": ".py",
   "mimetype": "text/x-python",
   "name": "python",
   "nbconvert_exporter": "python",
   "pygments_lexer": "ipython3",
   "version": "3.9.2"
  }
 },
 "nbformat": 4,
 "nbformat_minor": 5
}
